{
 "cells": [
  {
   "cell_type": "code",
   "execution_count": 1,
   "metadata": {},
   "outputs": [],
   "source": [
    "#use this if pgmpy not installed already----!pip install pgmpy\n",
    "#Author:Abdullah Ferdous\n",
    "import pandas as pd\n",
    "from pandas import DataFrame\n",
    "from pgmpy.models import BayesianModel\n",
    "from pgmpy.inference import VariableElimination\n",
    "from pgmpy.estimators import MaximumLikelihoodEstimator,BayesianEstimator"
   ]
  },
  {
   "cell_type": "code",
   "execution_count": 2,
   "metadata": {},
   "outputs": [],
   "source": [
    "\n",
    "traffic_data = [\n",
    "    ['peak',    'good', 'Yes', 'No' , 'D'],\n",
    "    ['peak',    'bad',  'Yes', 'No', 'D'],\n",
    "    ['peak',    'good', 'No', 'No', 'B'],\n",
    "    ['offPeak', 'good', 'Yes', 'Yes', 'NP'],\n",
    "    ['offpeak', 'bad',  'Yes', 'No', 'NP'],\n",
    "    ['peak',    'good', 'No', 'No',  'C'],\n",
    "    ['peak',    'bad',  'Yes', 'Yes', 'C'],\n",
    "    ['peak',    'good', 'Yes', 'No', 'D'],\n",
    "    ['offPeak', 'good', 'No', 'Yes', 'NP'],\n",
    "    ['offpeak', 'bad',  'Yes', 'No', 'NP'],\n",
    "    ['peak',    'good', 'Yes', 'Yes' , 'C'],\n",
    "    ['peak',    'bad',  'No', 'No', 'B'],\n",
    "    ['peak',    'good', 'Yes', 'No', 'B'],\n",
    "    ['offPeak', 'good', 'No', 'No', 'NP'],\n",
    "    ['offpeak', 'bad',  'Yes', 'Yes', 'NP'],\n",
    "    ['peak',    'good', 'Yes', 'No' , 'D'],\n",
    "    ['peak',    'bad',  'No', 'No', 'D'],\n",
    "    ['peak',    'good', 'Yes', 'Yes', 'A'],\n",
    "    ['offPeak', 'good', 'Yes', 'No', 'NP'],\n",
    "    ['offpeak', 'bad',  'No', 'No', 'NP'],\n",
    "    ['peak',    'good', 'Yes', 'No' , 'B'],\n",
    "    ['peak',    'good',  'Yes', 'Yes', 'D'],\n",
    "    ['peak',    'good', 'Yes', 'No', 'D'],\n",
    "    ['offPeak', 'good', 'No', 'No', 'NP'],\n",
    "    ['offpeak', 'bad',  'Yes', 'No', 'NP'],\n",
    "    ['peak',    'good', 'Yes', 'No' , 'B'],\n",
    "    ['peak',    'bad',  'Yes', 'No', 'D'],\n",
    "    ['peak',    'good', 'No', 'No', 'A'],\n",
    "    ['offPeak', 'good', 'Yes', 'Yes', 'NP'],\n",
    "    ['offpeak', 'bad',  'Yes', 'No', 'NP'],\n",
    "    ['peak',    'good', 'No', 'No' , 'B'],\n",
    "    ['peak',    'good',  'Yes', 'Yes', 'D'],\n",
    "    ['peak',    'good', 'Yes', 'No', 'A'],\n",
    "    ['offPeak', 'good', 'No', 'No', 'NP'],\n",
    "    ['offpeak', 'bad',  'Yes', 'No', 'NP'],\n",
    "    ['peak',    'good', 'Yes', 'Yes' , 'D'],\n",
    "    ['peak',    'bad',  'No', 'No', 'A'],\n",
    "    ['peak',    'good', 'Yes', 'Yes', 'D'],\n",
    "    ['offPeak', 'good', 'No', 'No', 'NP'],\n",
    "    ['offpeak', 'bad',  'Yes', 'No', 'NP'],\n",
    "    \n",
    "]"
   ]
  },
  {
   "cell_type": "code",
   "execution_count": 3,
   "metadata": {},
   "outputs": [],
   "source": [
    "header = [\"Time\", \"weather\", \"Accident\" , \"Road work\", \"label\"]"
   ]
  },
  {
   "cell_type": "code",
   "execution_count": 4,
   "metadata": {},
   "outputs": [],
   "source": [
    "df = DataFrame(traffic_data, columns= [\"Time\", \"weather\", \"Accident\" , \"Road work\", \"priority\"])"
   ]
  },
  {
   "cell_type": "code",
   "execution_count": 5,
   "metadata": {},
   "outputs": [
    {
     "name": "stdout",
     "output_type": "stream",
     "text": [
      "       Time weather Accident Road work priority\n",
      "0      peak    good      Yes        No        D\n",
      "1      peak     bad      Yes        No        D\n",
      "2      peak    good       No        No        B\n",
      "3   offPeak    good      Yes       Yes       NP\n",
      "4   offpeak     bad      Yes        No       NP\n",
      "5      peak    good       No        No        C\n",
      "6      peak     bad      Yes       Yes        C\n",
      "7      peak    good      Yes        No        D\n",
      "8   offPeak    good       No       Yes       NP\n",
      "9   offpeak     bad      Yes        No       NP\n",
      "10     peak    good      Yes       Yes        C\n",
      "11     peak     bad       No        No        B\n",
      "12     peak    good      Yes        No        B\n",
      "13  offPeak    good       No        No       NP\n",
      "14  offpeak     bad      Yes       Yes       NP\n",
      "15     peak    good      Yes        No        D\n",
      "16     peak     bad       No        No        D\n",
      "17     peak    good      Yes       Yes        A\n",
      "18  offPeak    good      Yes        No       NP\n",
      "19  offpeak     bad       No        No       NP\n",
      "20     peak    good      Yes        No        B\n",
      "21     peak    good      Yes       Yes        D\n",
      "22     peak    good      Yes        No        D\n",
      "23  offPeak    good       No        No       NP\n",
      "24  offpeak     bad      Yes        No       NP\n",
      "25     peak    good      Yes        No        B\n",
      "26     peak     bad      Yes        No        D\n",
      "27     peak    good       No        No        A\n",
      "28  offPeak    good      Yes       Yes       NP\n",
      "29  offpeak     bad      Yes        No       NP\n",
      "30     peak    good       No        No        B\n",
      "31     peak    good      Yes       Yes        D\n",
      "32     peak    good      Yes        No        A\n",
      "33  offPeak    good       No        No       NP\n",
      "34  offpeak     bad      Yes        No       NP\n",
      "35     peak    good      Yes       Yes        D\n",
      "36     peak     bad       No        No        A\n",
      "37     peak    good      Yes       Yes        D\n",
      "38  offPeak    good       No        No       NP\n",
      "39  offpeak     bad      Yes        No       NP\n"
     ]
    }
   ],
   "source": [
    "print(df)"
   ]
  },
  {
   "cell_type": "code",
   "execution_count": 6,
   "metadata": {},
   "outputs": [
    {
     "data": {
      "text/html": [
       "<div>\n",
       "<style scoped>\n",
       "    .dataframe tbody tr th:only-of-type {\n",
       "        vertical-align: middle;\n",
       "    }\n",
       "\n",
       "    .dataframe tbody tr th {\n",
       "        vertical-align: top;\n",
       "    }\n",
       "\n",
       "    .dataframe thead th {\n",
       "        text-align: right;\n",
       "    }\n",
       "</style>\n",
       "<table border=\"1\" class=\"dataframe\">\n",
       "  <thead>\n",
       "    <tr style=\"text-align: right;\">\n",
       "      <th></th>\n",
       "      <th>Time</th>\n",
       "      <th>weather</th>\n",
       "      <th>Accident</th>\n",
       "      <th>Road work</th>\n",
       "      <th>priority</th>\n",
       "    </tr>\n",
       "  </thead>\n",
       "  <tbody>\n",
       "    <tr>\n",
       "      <th>0</th>\n",
       "      <td>peak</td>\n",
       "      <td>good</td>\n",
       "      <td>Yes</td>\n",
       "      <td>No</td>\n",
       "      <td>D</td>\n",
       "    </tr>\n",
       "    <tr>\n",
       "      <th>1</th>\n",
       "      <td>peak</td>\n",
       "      <td>bad</td>\n",
       "      <td>Yes</td>\n",
       "      <td>No</td>\n",
       "      <td>D</td>\n",
       "    </tr>\n",
       "    <tr>\n",
       "      <th>2</th>\n",
       "      <td>peak</td>\n",
       "      <td>good</td>\n",
       "      <td>No</td>\n",
       "      <td>No</td>\n",
       "      <td>B</td>\n",
       "    </tr>\n",
       "    <tr>\n",
       "      <th>3</th>\n",
       "      <td>offPeak</td>\n",
       "      <td>good</td>\n",
       "      <td>Yes</td>\n",
       "      <td>Yes</td>\n",
       "      <td>NP</td>\n",
       "    </tr>\n",
       "    <tr>\n",
       "      <th>4</th>\n",
       "      <td>offpeak</td>\n",
       "      <td>bad</td>\n",
       "      <td>Yes</td>\n",
       "      <td>No</td>\n",
       "      <td>NP</td>\n",
       "    </tr>\n",
       "  </tbody>\n",
       "</table>\n",
       "</div>"
      ],
      "text/plain": [
       "      Time weather Accident Road work priority\n",
       "0     peak    good      Yes        No        D\n",
       "1     peak     bad      Yes        No        D\n",
       "2     peak    good       No        No        B\n",
       "3  offPeak    good      Yes       Yes       NP\n",
       "4  offpeak     bad      Yes        No       NP"
      ]
     },
     "execution_count": 6,
     "metadata": {},
     "output_type": "execute_result"
    }
   ],
   "source": [
    "df.head()"
   ]
  },
  {
   "cell_type": "code",
   "execution_count": 7,
   "metadata": {},
   "outputs": [],
   "source": [
    "df.to_csv('traffic.csv')"
   ]
  },
  {
   "cell_type": "code",
   "execution_count": 8,
   "metadata": {},
   "outputs": [
    {
     "name": "stderr",
     "output_type": "stream",
     "text": [
      "WARNING:root:Replacing existing CPD for Accident\n",
      "WARNING:root:Replacing existing CPD for Time\n",
      "WARNING:root:Replacing existing CPD for priority\n",
      "WARNING:root:Replacing existing CPD for weather\n"
     ]
    }
   ],
   "source": [
    "model=BayesianModel([(\"Time\",\"weather\"),(\"weather\",\"Accident\"),(\"weather\",\"priority\")])\n",
    "model.fit(df)\n",
    "model.fit(df,estimator=MaximumLikelihoodEstimator)"
   ]
  },
  {
   "cell_type": "code",
   "execution_count": 9,
   "metadata": {},
   "outputs": [],
   "source": [
    "#infer=VariableElimination(model)\n",
    "#q=infer.query(variables=[\"label\",'label'],evidence={\"Time\":5})"
   ]
  },
  {
   "cell_type": "code",
   "execution_count": 10,
   "metadata": {},
   "outputs": [],
   "source": [
    "def var_elimination_inference(model, query_vars, index, evidence={}):   \n",
    "    infer = VariableElimination(model)\n",
    "    s_dist = infer.query(query_vars, evidence=evidence)[index]\n",
    "    print('priority_0:Zone-C, priority_1:Zone-A, priority_2: Zone-B, priority_3: NP-No priority, priority_4: Zone -D')\n",
    "    print(s_dist)"
   ]
  },
  {
   "cell_type": "code",
   "execution_count": 11,
   "metadata": {},
   "outputs": [
    {
     "name": "stdout",
     "output_type": "stream",
     "text": [
      "priority_0:Zone-C, priority_1:Zone-A, priority_2: Zone-B, priority_3: NP-No priority, priority_4: Zone -D\n",
      "+------------+-----------------+\n",
      "| priority   |   phi(priority) |\n",
      "+============+=================+\n",
      "| priority_0 |          0.0714 |\n",
      "+------------+-----------------+\n",
      "| priority_1 |          0.0714 |\n",
      "+------------+-----------------+\n",
      "| priority_2 |          0.0714 |\n",
      "+------------+-----------------+\n",
      "| priority_3 |          0.2143 |\n",
      "+------------+-----------------+\n",
      "| priority_4 |          0.5714 |\n",
      "+------------+-----------------+\n"
     ]
    }
   ],
   "source": [
    "\n",
    "var_elimination_inference(model, ['priority'], 'priority', evidence={'Time': 1})\n"
   ]
  },
  {
   "cell_type": "code",
   "execution_count": 12,
   "metadata": {},
   "outputs": [],
   "source": [
    "seq_dict = {0: 'NP', 1: 'D', 2: 'C', 3: 'B', 4: 'A'}"
   ]
  },
  {
   "cell_type": "code",
   "execution_count": 13,
   "metadata": {},
   "outputs": [],
   "source": [
    "def var_elimination_predict(model, query_vars, evidence={}):\n",
    "    infer = VariableElimination(model)\n",
    "    predictions = infer.map_query(query_vars, evidence=evidence)\n",
    "    print({k: seq_dict.get(v, v) for k, v in predictions.items()})"
   ]
  },
  {
   "cell_type": "code",
   "execution_count": 14,
   "metadata": {},
   "outputs": [
    {
     "name": "stdout",
     "output_type": "stream",
     "text": [
      "{'priority': 'A'}\n"
     ]
    }
   ],
   "source": [
    "var_elimination_predict(model, ['priority'], evidence={'Time': 1, 'weather': 0, 'Accident': 1})"
   ]
  }
 ],
 "metadata": {
  "kernelspec": {
   "display_name": "Python 3",
   "language": "python",
   "name": "python3"
  },
  "language_info": {
   "codemirror_mode": {
    "name": "ipython",
    "version": 3
   },
   "file_extension": ".py",
   "mimetype": "text/x-python",
   "name": "python",
   "nbconvert_exporter": "python",
   "pygments_lexer": "ipython3",
   "version": "3.6.5"
  }
 },
 "nbformat": 4,
 "nbformat_minor": 2
}
